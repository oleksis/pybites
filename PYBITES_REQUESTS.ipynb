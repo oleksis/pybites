{
 "cells": [
  {
   "cell_type": "code",
   "execution_count": null,
   "metadata": {},
   "outputs": [],
   "source": [
    "import json\n",
    "import lxml.html\n",
    "import requests\n",
    "from IPython.display import HTML\n",
    "\n",
    "USERNAME =\"YOUR_USERNAME\"\n",
    "PASSWORD = \"YOUR_PASSWORD\"\n",
    "URL_PYBITES_LOGIN = \"https://codechalleng.es/login\"\n",
    "URL_PYBITES_BITE = \"https://codechalleng.es/bites\"\n",
    "\n",
    "# https://codechalleng.es/bites/api/downloads/bites/213/\n",
    "# pybites_bite172.zip\n",
    "# https://codechalleng.es/bites/101/\n",
    "# pybite_bite101.html\n",
    "\n",
    "def _get_csrf(content):\n",
    "    login_html = lxml.html.fromstring(content)\n",
    "    hiddens_input = login_html.xpath(r'//form/input[@type=\"hidden\"]')\n",
    "    form = { x.attrib[\"name\"]: x.attrib[\"value\"]\n",
    "            for x in hiddens_input}\n",
    "    return form.get(\"csrfmiddlewaretoken\")\n",
    "\n",
    "\n",
    "def download_resource(bite_num):\n",
    "    payload = {\"username\": USERNAME,\n",
    "               \"password\": PASSWORD}\n",
    "    csrfmiddlewaretoken = \"\"\n",
    "    url_pybite=f\"{URL_PYBITES_BITE}/{bite_num}/\"\n",
    "    \n",
    "    with requests.Session() as session:\n",
    "        session.headers.update({\"User-Agent\":\n",
    "                                \"pybites_template,0\"})\n",
    "        page_login = session.get(URL_PYBITES_LOGIN)\n",
    "        \n",
    "        #csrfmiddlewaretoken = _get_csrf(page_login.text)\n",
    "        csrfmiddlewaretoken = session.cookies[\"csrftoken\"]\n",
    "        \n",
    "        payload.update({\"csrfmiddlewaretoken\": csrfmiddlewaretoken,\n",
    "                        \"next\": \"/\"})\n",
    "        session.headers.update({\"Referer\": URL_PYBITES_LOGIN})\n",
    "        \n",
    "        response = session.post(URL_PYBITES_LOGIN,\n",
    "                                data=payload)\n",
    "        response = session.get(url_pybite)\n",
    "        \n",
    "        bite_html = response.text\n",
    "        \n",
    "        return bite_html\n",
    "        \n",
    "HTML(download_resource(101))\n"
   ]
  }
 ],
 "metadata": {
  "kernelspec": {
   "display_name": "Python 3",
   "language": "python",
   "name": "python3"
  },
  "language_info": {
   "codemirror_mode": {
    "name": "ipython",
    "version": 3
   },
   "file_extension": ".py",
   "mimetype": "text/x-python",
   "name": "python",
   "nbconvert_exporter": "python",
   "pygments_lexer": "ipython3",
   "version": "3.7.1"
  }
 },
 "nbformat": 4,
 "nbformat_minor": 2
}
