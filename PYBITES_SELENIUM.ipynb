{
 "cells": [
  {
   "cell_type": "code",
   "execution_count": null,
   "metadata": {
    "colab": {
     "base_uri": "https://localhost:8080/",
     "height": 1000
    },
    "colab_type": "code",
    "executionInfo": {
     "elapsed": 31501,
     "status": "ok",
     "timestamp": 1584377800509,
     "user": {
      "displayName": "Oleksis Fraga Menéndez",
      "photoUrl": "https://lh3.googleusercontent.com/a-/AOh14GiEmDLfULCv0yBjSUJLJKaOti8gZ3IJDywwW5fHNA=s64",
      "userId": "10446488296499554506"
     },
     "user_tz": 240
    },
    "id": "Qg_exufR6ZP5",
    "outputId": "f456d24f-c74e-4aa5-fe90-1bcbbf7bd62f",
    "scrolled": true
   },
   "outputs": [],
   "source": [
    "# https://gist.github.com/korakot/5c8e21a5af63966d80a676af0ce15067\n",
    "# install chromium, its driver, and selenium\n",
    "!apt install chromium-chromedriver\n",
    "!pip install selenium\n",
    "\n",
    "%env PB_USER=YOUR_USERNAME\n",
    "%env PB_PW=YOUR_PASSWORD"
   ]
  },
  {
   "cell_type": "code",
   "execution_count": 49,
   "metadata": {
    "colab": {
     "base_uri": "https://localhost:8080/",
     "height": 617
    },
    "colab_type": "code",
    "executionInfo": {
     "elapsed": 10172,
     "status": "ok",
     "timestamp": 1584392473371,
     "user": {
      "displayName": "Oleksis Fraga Menéndez",
      "photoUrl": "https://lh3.googleusercontent.com/a-/AOh14GiEmDLfULCv0yBjSUJLJKaOti8gZ3IJDywwW5fHNA=s64",
      "userId": "10446488296499554506"
     },
     "user_tz": 240
    },
    "id": "_Ixc9z_U6ZQ7",
    "outputId": "6fa9f9e4-dab2-46e6-e1d8-5d1959ee886e"
   },
   "outputs": [
    {
     "data": {
      "text/html": [
       "\n",
       "      <h2 class=\"mui--text-headline title\">\n",
       "      \n",
       "        <a href=\"/profiles/pybites\" target=\"_blank\">\n",
       "          <img class=\"ghMiniAvatar\" src=\"https://github.com/pybites.png?size=40\" alt=\"GH avatar\">\n",
       "        </a> \n",
       "      \n",
       "      Bite 102. Infinite loop, input, continue and break\n",
       "        \n",
       "\n",
       "        \n",
       "          <form id=\"bitemarkForm\" action=\"\" class=\"mui-form\" method=\"post\">\n",
       "            <input type=\"hidden\" name=\"csrfmiddlewaretoken\" value=\"SBujdf9Dw2SL7EzFgtxUGCsqqFSCp4FUNr3wJ12zcOFmsqxWpsiFMvJmXKxhQenZ\">\n",
       "            <input name=\"bitemarkChange\" id=\"bitemarkChange\" type=\"hidden\" value=\"1\">\n",
       "            \n",
       "              <button type=\"submit\" class=\"bitemarkStar\" id=\"bitemark\" name=\"bitemark\" title=\"Add to your favorites ('bitemark it')\">☆</button>\n",
       "            \n",
       "          </form>\n",
       "        \n",
       "      </h2>\n",
       "\n",
       "      <blockquote class=\"biteDescription scrollbar2\">\n",
       "        <p>In this Bite we'll get you to take user input using the <code>input</code> builtin and see if it matches items within a list.</p><p>In the <code>while</code> loop ask the user to enter a color and capture that input.</p><p>Check to see whether they've entered 'quit'. If so, print <i>bye</i> and exit (<code>break</code>) the loop, effectively ending the function.</p><p>If not, check to see whether the color (input) is in the <code>VALID_COLORS</code> color list. If it is, then print the color <strong>in lower case</strong>. If not, print <i>Not a valid color</i> and <code>continue</code> the loop.</p><p>As you want to ask the user over and over again till they quit, you can use an infinite <code>while</code> loop. We already provided that in the template code, just code inside that loop.</p>\n",
       "\n",
       "        \n",
       "\n",
       "      </blockquote>\n",
       "\n",
       "      \n",
       "\n",
       "    \n",
       "\n",
       "<b>colors.py and test_colors.py files written to local storage!</b>"
      ],
      "text/plain": [
       "<IPython.core.display.HTML object>"
      ]
     },
     "execution_count": 49,
     "metadata": {
      "tags": []
     },
     "output_type": "execute_result"
    }
   ],
   "source": [
    "# https://gist.github.com/pybites/0aa6d9833849a0942ed218b1d46c47b4#file-platform_login_selenium-py\n",
    "import os\n",
    "from IPython.display import HTML\n",
    "# make venv and pip install selenium\n",
    "from selenium import webdriver\n",
    "from selenium.webdriver.common.by import By\n",
    "from selenium.webdriver.common.action_chains import ActionChains\n",
    "from selenium.webdriver.common.keys import Keys\n",
    "from selenium.webdriver.support.ui import WebDriverWait\n",
    "from selenium.webdriver.support import expected_conditions as EC\n",
    "\n",
    "\n",
    "# set your codechalleng.es username and password in venv/bin/activate, then source it\n",
    "USERNAME = os.getenv(\"PB_USER\") or \"YOUR_USERNAME\"\n",
    "PASSWORD = os.getenv(\"PB_PW\") or \"YOUR_PASSWORD\"\n",
    "# Set your Bite to code\n",
    "BITE_NUM = 102\n",
    "\n",
    "BASE_URL = \"https://codechalleng.es\"\n",
    "LOGIN_URL = f\"{BASE_URL}/login/\"\n",
    "PYBITES_BITE_URL = f\"{BASE_URL}/bites/{BITE_NUM}\"\n",
    "WAIT_SECONDS = 2\n",
    "CODE_TEMPLATE = \"\"\n",
    "TEST_NAME = \"\"\n",
    "CODE_TEST = \"\"\n",
    "\n",
    "\n",
    "# set options to be headless, ..\n",
    "options = webdriver.ChromeOptions()\n",
    "options.add_argument('--headless')\n",
    "options.add_argument('--no-sandbox')\n",
    "options.add_argument('--disable-dev-shm-usage')\n",
    "\n",
    "\n",
    "# open it, go to a website, and get results\n",
    "driver = webdriver.Chrome('chromedriver', options=options)\n",
    "\n",
    "driver.get(LOGIN_URL)\n",
    "  \n",
    "driver.find_element_by_name('username').send_keys(USERNAME)\n",
    "driver.find_element_by_name('password').send_keys(PASSWORD + Keys.RETURN)\n",
    "  \n",
    "# I am logged in, let go to a Bite\n",
    "driver.get(PYBITES_BITE_URL)\n",
    "# do your thing\n",
    "#_html = driver.page_source\n",
    "#print(_html)\n",
    "contentWrapperElement = driver.find_element_by_css_selector(\"div.mui-col-md-8\")\n",
    "contentWrapperElement = contentWrapperElement.get_attribute(\"innerHTML\")\n",
    "# Implicit Wait\n",
    "driver.implicitly_wait(WAIT_SECONDS)\n",
    "element = driver.find_element_by_name(\"template_code\")\n",
    "CODE_TEMPLATE = element.get_attribute(\"value\")\n",
    "element = driver.find_element_by_xpath(\"//a[@data-mui-controls='pane-default-2']/span\")\n",
    "element.click()\n",
    "TEST_NAME = element.text\n",
    "TEST_NAME = TEST_NAME.strip(\"(\").strip(\")\")\n",
    "driver.execute_script(\"mui.tabs.activate('pane-default-2')\")\n",
    "# Simular Copy/Paste en Selenium\n",
    "# Copy\n",
    "cb = driver.execute_script(\"return copyTestToClipBoard();\")\n",
    "alert = driver.switch_to.alert\n",
    "alert.accept()\n",
    "driver.switch_to.default_content\n",
    "# Crear textArea\n",
    "js = \"\"\"\n",
    "function createTextArea(){\n",
    "      var tArea = document.createElement('textarea');\n",
    "      tArea.id = 'myTestCode';\n",
    "      var pane = document.getElementById('pane-default-2');\n",
    "      pane.appendChild(tArea);\n",
    "}\n",
    "createTextArea();\n",
    "\"\"\"\n",
    "cb = driver.execute_script(js)\n",
    "# Paste\n",
    "textAreaElement = driver.find_element_by_id(\"myTestCode\")\n",
    "textAreaElement.click()\n",
    "textAreaElement.send_keys(Keys.CONTROL + \"v\")\n",
    "CODE_TEST = textAreaElement.get_property(\"value\")\n",
    "\n",
    "\n",
    "BITE_NAME = TEST_NAME.split(\"test_\")[1]\n",
    "\n",
    "with open(BITE_NAME, \"w\") as file:\n",
    "  file.write(CODE_TEMPLATE)\n",
    "  os.environ[\"PB_FILE\"] = BITE_NAME\n",
    "\n",
    "with open(TEST_NAME, \"w\") as file:\n",
    "  file.write(CODE_TEST)\n",
    "  os.environ[\"PB_TEST\"] = TEST_NAME\n",
    "\n",
    "_html = contentWrapperElement + \"\\n\\n\" + \\\n",
    "f\"<b>{BITE_NAME} and {TEST_NAME} files written to local storage!</b>\"\n",
    "\n",
    "HTML(_html)\n"
   ]
  },
  {
   "cell_type": "code",
   "execution_count": 0,
   "metadata": {
    "colab": {
     "base_uri": "https://localhost:8080/",
     "height": 255
    },
    "colab_type": "code",
    "executionInfo": {
     "elapsed": 1479,
     "status": "ok",
     "timestamp": 1584377823159,
     "user": {
      "displayName": "Oleksis Fraga Menéndez",
      "photoUrl": "https://lh3.googleusercontent.com/a-/AOh14GiEmDLfULCv0yBjSUJLJKaOti8gZ3IJDywwW5fHNA=s64",
      "userId": "10446488296499554506"
     },
     "user_tz": 240
    },
    "id": "oMXx75ryH90U",
    "outputId": "f17b2a72-c1fb-4748-a75c-618ddb52b77a"
   },
   "outputs": [
    {
     "name": "stdout",
     "output_type": "stream",
     "text": [
      "VALID_COLORS = ['blue', 'yellow', 'red']\n",
      "\n",
      "\n",
      "def print_colors():\n",
      "    \"\"\"In the while loop ask the user to enter a color,\n",
      "       lowercase it and store it in a variable. Next check: \n",
      "       - if 'quit' was entered for color, print 'bye' and break. \n",
      "       - if the color is not in VALID_COLORS, print 'Not a valid color' and continue.\n",
      "       - otherwise print the color in lower case.\"\"\"\n",
      "    while True:\n",
      "        pass"
     ]
    }
   ],
   "source": [
    "!cat $PB_FILE"
   ]
  },
  {
   "cell_type": "markdown",
   "metadata": {
    "colab_type": "text",
    "id": "lL-tN17DelKG"
   },
   "source": [
    "Copy and paste the Code Template into the next cell. Write the solution and overwrite it to the file using the magic command **%%writefile \\<PB_FILE\\>** in the first line of the cell"
   ]
  },
  {
   "cell_type": "code",
   "execution_count": 0,
   "metadata": {
    "colab": {
     "base_uri": "https://localhost:8080/",
     "height": 35
    },
    "colab_type": "code",
    "executionInfo": {
     "elapsed": 925,
     "status": "ok",
     "timestamp": 1584376710979,
     "user": {
      "displayName": "",
      "photoUrl": "",
      "userId": ""
     },
     "user_tz": 240
    },
    "id": "OL-pZRWxhxTQ",
    "outputId": "a2bb3440-0b20-418f-fba8-99731748c42e"
   },
   "outputs": [
    {
     "name": "stdout",
     "output_type": "stream",
     "text": [
      "%%writefile colors.py\n"
     ]
    }
   ],
   "source": [
    "print(f\"%%writefile {BITE_NAME}\")"
   ]
  },
  {
   "cell_type": "code",
   "execution_count": 50,
   "metadata": {
    "colab": {
     "base_uri": "https://localhost:8080/",
     "height": 35
    },
    "colab_type": "code",
    "executionInfo": {
     "elapsed": 500,
     "status": "ok",
     "timestamp": 1584392482762,
     "user": {
      "displayName": "Oleksis Fraga Menéndez",
      "photoUrl": "https://lh3.googleusercontent.com/a-/AOh14GiEmDLfULCv0yBjSUJLJKaOti8gZ3IJDywwW5fHNA=s64",
      "userId": "10446488296499554506"
     },
     "user_tz": 240
    },
    "id": "F7DgEmVLMIeZ",
    "outputId": "f689d4c4-f5ec-4446-9d6f-eec515abb86f"
   },
   "outputs": [
    {
     "name": "stdout",
     "output_type": "stream",
     "text": [
      "Overwriting colors.py\n"
     ]
    }
   ],
   "source": [
    "%%writefile colors.py\n",
    "VALID_COLORS = ['blue', 'yellow', 'red']\n",
    "\n",
    "\n",
    "def print_colors():\n",
    "  while(True):\n",
    "    color = input(\"Enter color: {0}\".format(VALID_COLORS))\n",
    "    color = color.lower()\n",
    "\n",
    "    if color == \"quit\":\n",
    "      print(\"bye\")\n",
    "      break\n",
    "    \n",
    "    if color not in VALID_COLORS:\n",
    "      print(\"Not a valid color\")\n",
    "      continue\n",
    "    else:\n",
    "      print(color)\n",
    "  "
   ]
  },
  {
   "cell_type": "markdown",
   "metadata": {
    "colab_type": "text",
    "id": "7ntU1kVkpy0p"
   },
   "source": [
    "Uncomment the next line and run it until passing tests with **pytest**"
   ]
  },
  {
   "cell_type": "code",
   "execution_count": 44,
   "metadata": {
    "colab": {
     "base_uri": "https://localhost:8080/",
     "height": 346
    },
    "colab_type": "code",
    "executionInfo": {
     "elapsed": 2819,
     "status": "ok",
     "timestamp": 1584392175433,
     "user": {
      "displayName": "Oleksis Fraga Menéndez",
      "photoUrl": "https://lh3.googleusercontent.com/a-/AOh14GiEmDLfULCv0yBjSUJLJKaOti8gZ3IJDywwW5fHNA=s64",
      "userId": "10446488296499554506"
     },
     "user_tz": 240
    },
    "id": "7guKzbMOqKwj",
    "outputId": "3ca1d51d-1942-4122-93d7-98505472ef3e"
   },
   "outputs": [
    {
     "name": "stdout",
     "output_type": "stream",
     "text": [
      "\u001b[1m============================= test session starts ==============================\u001b[0m\n",
      "platform linux -- Python 3.6.9, pytest-3.6.4, py-1.8.1, pluggy-0.7.1\n",
      "rootdir: /content, inifile:\n",
      "\u001b[1m\r",
      "collecting 0 items                                                             \u001b[0m\u001b[1m\r",
      "collecting 5 items                                                             \u001b[0m\u001b[1m\r",
      "collected 5 items                                                              \u001b[0m\n",
      "\n",
      "test_colors.py .....\u001b[36m                                                     [100%]\u001b[0m\n",
      "\n",
      "\u001b[32m\u001b[1m=========================== 5 passed in 0.02 seconds ===========================\u001b[0m\n",
      "!python -m pytest test_colors.py\n"
     ]
    }
   ],
   "source": [
    "!python -m pytest $PB_TEST\n",
    "print(f\"!python -m pytest {TEST_NAME}\")"
   ]
  },
  {
   "cell_type": "markdown",
   "metadata": {
    "colab_type": "text",
    "id": "xAM4jpe3Hu1X"
   },
   "source": [
    "When you are sure that your code passes the Test, execute the next cell for **”SAVE AND RUN TESTS**"
   ]
  },
  {
   "cell_type": "code",
   "execution_count": 51,
   "metadata": {
    "colab": {
     "base_uri": "https://localhost:8080/",
     "height": 35
    },
    "colab_type": "code",
    "executionInfo": {
     "elapsed": 6848,
     "status": "ok",
     "timestamp": 1584392505170,
     "user": {
      "displayName": "Oleksis Fraga Menéndez",
      "photoUrl": "https://lh3.googleusercontent.com/a-/AOh14GiEmDLfULCv0yBjSUJLJKaOti8gZ3IJDywwW5fHNA=s64",
      "userId": "10446488296499554506"
     },
     "user_tz": 240
    },
    "id": "C6cGyLd7WBsw",
    "outputId": "392b5449-73f5-4e8b-de4e-f77bd3e4a3ce"
   },
   "outputs": [
    {
     "name": "stdout",
     "output_type": "stream",
     "text": [
      "SAVE AND RUN TESTS\n"
     ]
    }
   ],
   "source": [
    "with open(BITE_NAME, \"r\") as file:\n",
    "  CODE = file.read()\n",
    "\n",
    "\n",
    "js = f\"\"\"function MyCopyCodeToForm(){{\n",
    "  var code = `{CODE}`;\n",
    "  document.getElementById('code').value = code;\n",
    "}}\n",
    "MyCopyCodeToForm();\n",
    "var saveRunTest = document.getElementById('save');\n",
    "saveRunTest.setAttribute('onclick', 'return MyCopyCodeToForm();')\n",
    "saveRunTest.click();\n",
    "\"\"\"\n",
    "driver.execute_script(js)\n",
    "print(\"SAVE AND RUN TESTS\")"
   ]
  }
 ],
 "metadata": {
  "colab": {
   "collapsed_sections": [],
   "name": " PYBITES_SELENIUM.ipynb",
   "provenance": [
    {
     "file_id": "https://github.com/oleksis/pybites/blob/master/PYBITES_SELENIUM.ipynb",
     "timestamp": 1584377303708
    },
    {
     "file_id": "https://github.com/oleksis/pybites/blob/master/PYBITES_SELENIUM.ipynb",
     "timestamp": 1584343324655
    },
    {
     "file_id": "https://github.com/oleksis/pybites/blob/master/PYBITES_SELENIUM.ipynb",
     "timestamp": 1584309040779
    },
    {
     "file_id": "https://github.com/oleksis/pybites/blob/master/PYBITES_SELENIUM.ipynb",
     "timestamp": 1584227101566
    },
    {
     "file_id": "https://github.com/oleksis/pybites/blob/master/PYBITES_SELENIUM.ipynb",
     "timestamp": 1584128599856
    }
   ]
  },
  "kernelspec": {
   "display_name": "Python 3",
   "language": "python",
   "name": "python3"
  },
  "language_info": {
   "codemirror_mode": {
    "name": "ipython",
    "version": 3
   },
   "file_extension": ".py",
   "mimetype": "text/x-python",
   "name": "python",
   "nbconvert_exporter": "python",
   "pygments_lexer": "ipython3",
   "version": "3.7.1"
  }
 },
 "nbformat": 4,
 "nbformat_minor": 1
}
