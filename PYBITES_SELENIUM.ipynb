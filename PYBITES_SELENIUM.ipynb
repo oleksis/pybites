{
 "cells": [
  {
   "cell_type": "code",
   "execution_count": 0,
   "metadata": {
    "colab": {},
    "colab_type": "code",
    "id": "Qg_exufR6ZP5",
    "scrolled": true
   },
   "outputs": [],
   "source": [
    "# https://gist.github.com/korakot/5c8e21a5af63966d80a676af0ce15067\n",
    "# install chromium, its driver, and selenium\n",
    "!apt install chromium-chromedriver\n",
    "!pip install selenium\n",
    "\n",
    "%env PB_USER=YOUR_USERNAME\n",
    "%env PB_PW=YOUR_PASSWORD"
   ]
  },
  {
   "cell_type": "code",
   "execution_count": 2,
   "metadata": {
    "colab": {
     "base_uri": "https://localhost:8080/",
     "height": 483
    },
    "colab_type": "code",
    "executionInfo": {
     "elapsed": 11260,
     "status": "ok",
     "timestamp": 1584472004692,
     "user": {
      "displayName": "Oleksis Fraga Menéndez",
      "photoUrl": "https://lh3.googleusercontent.com/a-/AOh14GiEmDLfULCv0yBjSUJLJKaOti8gZ3IJDywwW5fHNA=s64",
      "userId": "10446488296499554506"
     },
     "user_tz": 240
    },
    "id": "_Ixc9z_U6ZQ7",
    "outputId": "09af7b24-95f2-405b-9350-a608564462cc"
   },
   "outputs": [
    {
     "data": {
      "text/html": [
       "\n",
       "      <h2 class=\"mui--text-headline title\">\n",
       "      \n",
       "        <a href=\"/profiles/pybites\" target=\"_blank\">\n",
       "          <img class=\"ghMiniAvatar\" src=\"https://github.com/pybites.png?size=40\" alt=\"GH avatar\">\n",
       "        </a> \n",
       "      \n",
       "      Bite 105. Slice and dice\n",
       "        \n",
       "\n",
       "        \n",
       "          <form id=\"bitemarkForm\" action=\"\" class=\"mui-form\" method=\"post\">\n",
       "            <input type=\"hidden\" name=\"csrfmiddlewaretoken\" value=\"Qf4R9Y5kaZ0IhWJxIXrTP1WMqrhgaEnZSyMym9tu3FmrZ384bzD7DTgWbxD47seu\">\n",
       "            <input name=\"bitemarkChange\" id=\"bitemarkChange\" type=\"hidden\" value=\"1\">\n",
       "            \n",
       "              <button type=\"submit\" class=\"bitemarkStar\" id=\"bitemark\" name=\"bitemark\" title=\"Add to your favorites ('bitemark it')\">☆</button>\n",
       "            \n",
       "          </form>\n",
       "        \n",
       "      </h2>\n",
       "\n",
       "      <blockquote class=\"biteDescription scrollbar2\">\n",
       "        <p>Take the block of text provided and <code>strip</code> off the whitespace at both ends. Split the text&nbsp;by newline (<code>\\n</code>).</p><p>Loop through the lines, for each line:</p><ul><li>strip off any leading spaces,</li><li>check if the first character is lowercase,</li><li>if so, split the line into words and get the last word,</li><li>strip the trailing dot (<code>.</code>) and exclamation mark (<code>!</code>) from this last word,</li><li>and finally add it to the <code>results</code> list.</li></ul><p></p><p>Return the <code>results</code> list.</p>\n",
       "\n",
       "        \n",
       "\n",
       "      </blockquote>\n",
       "\n",
       "      \n",
       "\n",
       "    \n",
       "\n",
       "<b>slicing.py and test_slicing.py files written to local storage!</b>"
      ],
      "text/plain": [
       "<IPython.core.display.HTML object>"
      ]
     },
     "execution_count": 2,
     "metadata": {
      "tags": []
     },
     "output_type": "execute_result"
    }
   ],
   "source": [
    "# https://gist.github.com/pybites/0aa6d9833849a0942ed218b1d46c47b4#file-platform_login_selenium-py\n",
    "import os\n",
    "from IPython.display import HTML\n",
    "# make venv and pip install selenium\n",
    "from selenium import webdriver\n",
    "from selenium.webdriver.common.by import By\n",
    "from selenium.webdriver.common.action_chains import ActionChains\n",
    "from selenium.webdriver.common.keys import Keys\n",
    "from selenium.webdriver.support.ui import WebDriverWait\n",
    "from selenium.webdriver.support import expected_conditions as EC\n",
    "\n",
    "\n",
    "# set your codechalleng.es username and password in venv/bin/activate, then source it\n",
    "USERNAME = os.getenv(\"PB_USER\") or \"YOUR_USERNAME\"\n",
    "PASSWORD = os.getenv(\"PB_PW\") or \"YOUR_PASSWORD\"\n",
    "# Set your Bite to code\n",
    "BITE_NUM = 105\n",
    "\n",
    "BASE_URL = \"https://codechalleng.es\"\n",
    "LOGIN_URL = f\"{BASE_URL}/login/\"\n",
    "PYBITES_BITE_URL = f\"{BASE_URL}/bites/{BITE_NUM}\"\n",
    "WAIT_SECONDS = 2\n",
    "CODE_TEMPLATE = \"\"\n",
    "TEST_NAME = \"\"\n",
    "CODE_TEST = \"\"\n",
    "\n",
    "\n",
    "# set options to be headless, ..\n",
    "options = webdriver.ChromeOptions()\n",
    "options.add_argument('--headless')\n",
    "options.add_argument('--no-sandbox')\n",
    "options.add_argument('--disable-dev-shm-usage')\n",
    "\n",
    "\n",
    "# open it, go to a website, and get results\n",
    "driver = webdriver.Chrome('chromedriver', options=options)\n",
    "\n",
    "driver.get(LOGIN_URL)\n",
    "  \n",
    "driver.find_element_by_name('username').send_keys(USERNAME)\n",
    "driver.find_element_by_name('password').send_keys(PASSWORD + Keys.RETURN)\n",
    "  \n",
    "# I am logged in, let go to a Bite\n",
    "driver.get(PYBITES_BITE_URL)\n",
    "# do your thing\n",
    "#_html = driver.page_source\n",
    "#print(_html)\n",
    "contentWrapperElement = driver.find_element_by_css_selector(\"div.mui-col-md-8\")\n",
    "contentWrapperElement = contentWrapperElement.get_attribute(\"innerHTML\")\n",
    "# Implicit Wait\n",
    "driver.implicitly_wait(WAIT_SECONDS)\n",
    "element = driver.find_element_by_name(\"template_code\")\n",
    "CODE_TEMPLATE = element.get_attribute(\"value\")\n",
    "element = driver.find_element_by_xpath(\"//a[@data-mui-controls='pane-default-2']/span\")\n",
    "element.click()\n",
    "TEST_NAME = element.text\n",
    "TEST_NAME = TEST_NAME.strip(\"(\").strip(\")\")\n",
    "driver.execute_script(\"mui.tabs.activate('pane-default-2')\")\n",
    "# Simular Copy/Paste en Selenium\n",
    "# Copy\n",
    "cb = driver.execute_script(\"return copyTestToClipBoard();\")\n",
    "alert = driver.switch_to.alert\n",
    "alert.accept()\n",
    "driver.switch_to.default_content\n",
    "# Crear textArea\n",
    "js = \"\"\"\n",
    "function createTextArea(){\n",
    "      var tArea = document.createElement('textarea');\n",
    "      tArea.id = 'myTestCode';\n",
    "      var pane = document.getElementById('pane-default-2');\n",
    "      pane.appendChild(tArea);\n",
    "}\n",
    "createTextArea();\n",
    "\"\"\"\n",
    "cb = driver.execute_script(js)\n",
    "# Paste\n",
    "textAreaElement = driver.find_element_by_id(\"myTestCode\")\n",
    "textAreaElement.click()\n",
    "textAreaElement.send_keys(Keys.CONTROL + \"v\")\n",
    "CODE_TEST = textAreaElement.get_property(\"value\")\n",
    "\n",
    "\n",
    "BITE_NAME = TEST_NAME.split(\"test_\")[1]\n",
    "\n",
    "with open(BITE_NAME, \"w\") as file:\n",
    "  file.write(CODE_TEMPLATE)\n",
    "  os.environ[\"PB_FILE\"] = BITE_NAME\n",
    "\n",
    "with open(TEST_NAME, \"w\") as file:\n",
    "  file.write(CODE_TEST)\n",
    "  os.environ[\"PB_TEST\"] = TEST_NAME\n",
    "\n",
    "_html = contentWrapperElement + \"\\n\\n\" + \\\n",
    "f\"<b>{BITE_NAME} and {TEST_NAME} files written to local storage!</b>\"\n",
    "\n",
    "HTML(_html)\n"
   ]
  },
  {
   "cell_type": "code",
   "execution_count": 3,
   "metadata": {
    "colab": {
     "base_uri": "https://localhost:8080/",
     "height": 483
    },
    "colab_type": "code",
    "executionInfo": {
     "elapsed": 4418,
     "status": "ok",
     "timestamp": 1584472016071,
     "user": {
      "displayName": "Oleksis Fraga Menéndez",
      "photoUrl": "https://lh3.googleusercontent.com/a-/AOh14GiEmDLfULCv0yBjSUJLJKaOti8gZ3IJDywwW5fHNA=s64",
      "userId": "10446488296499554506"
     },
     "user_tz": 240
    },
    "id": "oMXx75ryH90U",
    "outputId": "e6f27ee6-1356-4b7c-e7db-537a2081c8e7"
   },
   "outputs": [
    {
     "name": "stdout",
     "output_type": "stream",
     "text": [
      "from string import ascii_lowercase\n",
      "\n",
      "text = \"\"\"\n",
      "One really nice feature of Python is polymorphism: using the same operation\n",
      "on different types of objects.\n",
      "Let's talk about an elegant feature: slicing.\n",
      "You can use this on a string as well as a list for example\n",
      "'pybites'[0:2] gives 'py'.\n",
      " The first value is inclusive and the last one is exclusive so\n",
      "here we grab indexes 0 and 1, the letter p and y.\n",
      "  When you have a 0 index you can leave it out so can write this as 'pybites'[:2]\n",
      "but here is the kicker: you can use this on a list too!\n",
      "['pybites', 'teaches', 'you', 'Python'][-2:] would gives ['you', 'Python']\n",
      "and now you know about slicing from the end as well :)\n",
      "keep enjoying our bites!\n",
      "\"\"\"\n",
      "\n",
      "\n",
      "def slice_and_dice(text: str = text) -> list:\n",
      "    \"\"\"Get a list of words from the passed in text.\n",
      "       See the Bite description for step by step instructions\"\"\"\n",
      "    results = []"
     ]
    }
   ],
   "source": [
    "!cat $PB_FILE"
   ]
  },
  {
   "cell_type": "markdown",
   "metadata": {
    "colab_type": "text",
    "id": "lL-tN17DelKG"
   },
   "source": [
    "Copy and paste the Code Template into the next cell. Write the solution and overwrite it to the file using the magic command **%%writefile \\<PB_FILE\\>** in the first line of the cell"
   ]
  },
  {
   "cell_type": "code",
   "execution_count": 4,
   "metadata": {
    "colab": {
     "base_uri": "https://localhost:8080/",
     "height": 35
    },
    "colab_type": "code",
    "executionInfo": {
     "elapsed": 531,
     "status": "ok",
     "timestamp": 1584472035660,
     "user": {
      "displayName": "Oleksis Fraga Menéndez",
      "photoUrl": "https://lh3.googleusercontent.com/a-/AOh14GiEmDLfULCv0yBjSUJLJKaOti8gZ3IJDywwW5fHNA=s64",
      "userId": "10446488296499554506"
     },
     "user_tz": 240
    },
    "id": "OL-pZRWxhxTQ",
    "outputId": "18345d9a-f276-4119-8806-c66e7838a6d1"
   },
   "outputs": [
    {
     "name": "stdout",
     "output_type": "stream",
     "text": [
      "%%writefile slicing.py\n"
     ]
    }
   ],
   "source": [
    "print(f\"%%writefile {BITE_NAME}\")"
   ]
  },
  {
   "cell_type": "code",
   "execution_count": 5,
   "metadata": {
    "colab": {
     "base_uri": "https://localhost:8080/",
     "height": 35
    },
    "colab_type": "code",
    "executionInfo": {
     "elapsed": 772,
     "status": "ok",
     "timestamp": 1584472046410,
     "user": {
      "displayName": "Oleksis Fraga Menéndez",
      "photoUrl": "https://lh3.googleusercontent.com/a-/AOh14GiEmDLfULCv0yBjSUJLJKaOti8gZ3IJDywwW5fHNA=s64",
      "userId": "10446488296499554506"
     },
     "user_tz": 240
    },
    "id": "F7DgEmVLMIeZ",
    "outputId": "39b05302-f581-457b-b11b-96a98120bff6"
   },
   "outputs": [
    {
     "name": "stdout",
     "output_type": "stream",
     "text": [
      "Overwriting slicing.py\n"
     ]
    }
   ],
   "source": [
    "%%writefile slicing.py\n",
    "from string import ascii_lowercase\n",
    "\n",
    "text = \"\"\"\n",
    "One really nice feature of Python is polymorphism: using the same operation\n",
    "on different types of objects.\n",
    "Let's talk about an elegant feature: slicing.\n",
    "You can use this on a string as well as a list for example\n",
    "'pybites'[0:2] gives 'py'.\n",
    " The first value is inclusive and the last one is exclusive so\n",
    "here we grap indexes 0 and 1, the latter p and y.\n",
    "  When you have a 0 index you can leave it out so can write this as 'pybites'[:2]\n",
    "here is the kicker: you can use this on a list too!\n",
    "['pybites', 'teaches', 'you', 'Python'][-2:] would give ['you', 'Python']\n",
    "and now you know about slicing from the end as well :)\n",
    "keep enjoying our bites!\n",
    "\"\"\"\n",
    "\n",
    "\n",
    "def slice_and_dice(text: str = text) -> list:\n",
    "  lines = [line.strip(' ') for line in text.split('\\n')]\n",
    "  words = [line.split(' ') for line in lines if (len(line) > 0 and line[0].islower())]\n",
    "  last_words = [word[-1].strip('.').strip('!') for word in words ]\n",
    "  \n",
    "  return last_words\n"
   ]
  },
  {
   "cell_type": "markdown",
   "metadata": {
    "colab_type": "text",
    "id": "7ntU1kVkpy0p"
   },
   "source": [
    "Uncomment the next line and run it until passing tests with **pytest**"
   ]
  },
  {
   "cell_type": "code",
   "execution_count": 6,
   "metadata": {
    "colab": {
     "base_uri": "https://localhost:8080/",
     "height": 355
    },
    "colab_type": "code",
    "executionInfo": {
     "elapsed": 1773,
     "status": "ok",
     "timestamp": 1584472059930,
     "user": {
      "displayName": "Oleksis Fraga Menéndez",
      "photoUrl": "https://lh3.googleusercontent.com/a-/AOh14GiEmDLfULCv0yBjSUJLJKaOti8gZ3IJDywwW5fHNA=s64",
      "userId": "10446488296499554506"
     },
     "user_tz": 240
    },
    "id": "7guKzbMOqKwj",
    "outputId": "bafe9f25-2bf2-4ad8-aa0f-e1ac1a35f49a"
   },
   "outputs": [
    {
     "name": "stdout",
     "output_type": "stream",
     "text": [
      "\u001b[1m============================= test session starts ==============================\u001b[0m\n",
      "platform linux -- Python 3.6.9, pytest-3.6.4, py-1.8.1, pluggy-0.7.1\n",
      "rootdir: /content, inifile:\n",
      "plugins: typeguard-2.7.1\n",
      "\u001b[1m\r",
      "collecting 0 items                                                             \u001b[0m\u001b[1m\r",
      "collecting 2 items                                                             \u001b[0m\u001b[1m\r",
      "collected 2 items                                                              \u001b[0m\n",
      "\n",
      "test_slicing.py ..\u001b[36m                                                       [100%]\u001b[0m\n",
      "\n",
      "\u001b[32m\u001b[1m=========================== 2 passed in 0.02 seconds ===========================\u001b[0m\n",
      "!python -m pytest test_slicing.py\n"
     ]
    }
   ],
   "source": [
    "#!pytest [options] $PB_TEST\n",
    "#!pytest --capture=fd $PB_TEST\n",
    "!python -m pytest $PB_TEST\n",
    "print(f\"!python -m pytest {TEST_NAME}\")"
   ]
  },
  {
   "cell_type": "markdown",
   "metadata": {
    "colab_type": "text",
    "id": "xAM4jpe3Hu1X"
   },
   "source": [
    "When you are sure that your code passes the Test, execute the next cell for **”SAVE AND RUN TESTS**"
   ]
  },
  {
   "cell_type": "code",
   "execution_count": 7,
   "metadata": {
    "colab": {
     "base_uri": "https://localhost:8080/",
     "height": 35
    },
    "colab_type": "code",
    "executionInfo": {
     "elapsed": 4780,
     "status": "ok",
     "timestamp": 1584472073504,
     "user": {
      "displayName": "Oleksis Fraga Menéndez",
      "photoUrl": "https://lh3.googleusercontent.com/a-/AOh14GiEmDLfULCv0yBjSUJLJKaOti8gZ3IJDywwW5fHNA=s64",
      "userId": "10446488296499554506"
     },
     "user_tz": 240
    },
    "id": "C6cGyLd7WBsw",
    "outputId": "97b44c1b-02a1-45bc-a682-feaedf1453f1"
   },
   "outputs": [
    {
     "name": "stdout",
     "output_type": "stream",
     "text": [
      "SAVE AND RUN TESTS\n"
     ]
    }
   ],
   "source": [
    "with open(BITE_NAME, \"rb\") as file:\n",
    "  CODE = file.read()\n",
    "\n",
    "CODE = str(CODE).strip(\"b\").strip(\"'\")\n",
    "\n",
    "js = f\"\"\"function MyCopyCodeToForm(){{\n",
    "  var code = `{CODE}`;\n",
    "  document.getElementById('code').value = code;\n",
    "}}\n",
    "MyCopyCodeToForm();\n",
    "var saveRunTest = document.getElementById('save');\n",
    "saveRunTest.setAttribute('onclick', 'return MyCopyCodeToForm();')\n",
    "saveRunTest.click();\n",
    "\"\"\"\n",
    "driver.execute_script(js)\n",
    "print(\"SAVE AND RUN TESTS\")"
   ]
  }
 ],
 "metadata": {
  "colab": {
   "collapsed_sections": [],
   "name": "PYBITES_SELENIUM.ipynb",
   "provenance": [
    {
     "file_id": "https://github.com/oleksis/pybites/blob/master/PYBITES_SELENIUM.ipynb",
     "timestamp": 1584416986878
    },
    {
     "file_id": "https://github.com/oleksis/pybites/blob/master/PYBITES_SELENIUM.ipynb",
     "timestamp": 1584401937986
    },
    {
     "file_id": "https://github.com/oleksis/pybites/blob/master/PYBITES_SELENIUM.ipynb",
     "timestamp": 1584377303708
    },
    {
     "file_id": "https://github.com/oleksis/pybites/blob/master/PYBITES_SELENIUM.ipynb",
     "timestamp": 1584343324655
    },
    {
     "file_id": "https://github.com/oleksis/pybites/blob/master/PYBITES_SELENIUM.ipynb",
     "timestamp": 1584309040779
    },
    {
     "file_id": "https://github.com/oleksis/pybites/blob/master/PYBITES_SELENIUM.ipynb",
     "timestamp": 1584227101566
    },
    {
     "file_id": "https://github.com/oleksis/pybites/blob/master/PYBITES_SELENIUM.ipynb",
     "timestamp": 1584128599856
    }
   ]
  },
  "kernelspec": {
   "display_name": "Python 3",
   "language": "python",
   "name": "python3"
  },
  "language_info": {
   "codemirror_mode": {
    "name": "ipython",
    "version": 3
   },
   "file_extension": ".py",
   "mimetype": "text/x-python",
   "name": "python",
   "nbconvert_exporter": "python",
   "pygments_lexer": "ipython3",
   "version": "3.7.1"
  }
 },
 "nbformat": 4,
 "nbformat_minor": 1
}
