{
 "cells": [
  {
   "cell_type": "code",
   "execution_count": null,
   "metadata": {
    "colab": {
     "base_uri": "https://localhost:8080/",
     "height": 217
    },
    "colab_type": "code",
    "executionInfo": {
     "elapsed": 7059,
     "status": "ok",
     "timestamp": 1584227040854,
     "user": {
      "displayName": "",
      "photoUrl": "",
      "userId": ""
     },
     "user_tz": 240
    },
    "id": "Qg_exufR6ZP5",
    "outputId": "4f49df75-081e-4240-d557-1b98baef2a95",
    "scrolled": true
   },
   "outputs": [],
   "source": [
    "# https://gist.github.com/korakot/5c8e21a5af63966d80a676af0ce15067\n",
    "# install chromium, its driver, and selenium\n",
    "!apt install chromium-chromedriver\n",
    "!pip install selenium"
   ]
  },
  {
   "cell_type": "code",
   "execution_count": 2,
   "metadata": {
    "colab": {
     "base_uri": "https://localhost:8080/",
     "height": 689
    },
    "colab_type": "code",
    "executionInfo": {
     "elapsed": 17339,
     "status": "ok",
     "timestamp": 1584227051159,
     "user": {
      "displayName": "",
      "photoUrl": "",
      "userId": ""
     },
     "user_tz": 240
    },
    "id": "_Ixc9z_U6ZQ7",
    "outputId": "30d35a34-a1a9-4a2d-8e42-c8b42c532ab1"
   },
   "outputs": [
    {
     "name": "stdout",
     "output_type": "stream",
     "text": [
      "DRIVING.PY\n",
      "\n",
      "MIN_DRIVING_AGE = 18\n",
      "\n",
      "\n",
      "def allowed_driving(name, age):\n",
      "    \"\"\"Print '{name} is allowed to drive' or '{name} is not allowed to drive'\n",
      "       checking the passed in age against the MIN_DRIVING_AGE constant\"\"\"\n",
      "    pass\n",
      "\n",
      "\n",
      "\n",
      "\n",
      "TEST_DRIVING.PY\n",
      "\n",
      "from driving import allowed_driving\n",
      "\n",
      "\n",
      "def test_not_allowed_to_drive(capfd):\n",
      "    allowed_driving('tim', 17)\n",
      "    output = capfd.readouterr()[0].strip()\n",
      "    assert output == 'tim is not allowed to drive'\n",
      "\n",
      "\n",
      "def test_allowed_to_drive(capfd):\n",
      "    allowed_driving('bob', 18)\n",
      "    output = capfd.readouterr()[0].strip()\n",
      "    assert output == 'bob is allowed to drive'\n",
      "\n",
      "\n",
      "def test_allowed_to_drive_other_name(capfd):\n",
      "    allowed_driving('julian', 19)\n",
      "    output = capfd.readouterr()[0].strip()\n",
      "    assert output == 'julian is allowed to drive'\n"
     ]
    }
   ],
   "source": [
    "# https://gist.github.com/pybites/0aa6d9833849a0942ed218b1d46c47b4#file-platform_login_selenium-py\n",
    "import os\n",
    "from IPython.display import HTML\n",
    "# make venv and pip install selenium\n",
    "from selenium import webdriver\n",
    "from selenium.webdriver.common.by import By\n",
    "from selenium.webdriver.common.action_chains import ActionChains\n",
    "from selenium.webdriver.common.keys import Keys\n",
    "from selenium.webdriver.support.ui import WebDriverWait\n",
    "from selenium.webdriver.support import expected_conditions as EC\n",
    "\n",
    "\n",
    "USERNAME =\"YOUR_USERNAME\"\n",
    "PASSWORD = \"YOUR_PASSWORD\"\n",
    "BITE_NUM = 101\n",
    "BASE_URL = \"https://codechalleng.es\"\n",
    "LOGIN_URL = f\"{BASE_URL}/login/\"\n",
    "PYBITES_BITE_URL = f\"{BASE_URL}/bites/{BITE_NUM}\"\n",
    "WAIT_SECONDS = 2\n",
    "CODE_TEMPLATE = \"\"\n",
    "TEST_NAME = \"\"\n",
    "CODE_TEST = \"\"\n",
    "\n",
    "\n",
    "# set your codechalleng.es username and password in venv/bin/activate, then source it\n",
    "#USERNAME = os.getenv('PB_USER')\n",
    "#PASSWORD = os.getenv('PB_PW')\n",
    "\n",
    "# set options to be headless, ..\n",
    "options = webdriver.ChromeOptions()\n",
    "options.add_argument('--headless')\n",
    "options.add_argument('--no-sandbox')\n",
    "options.add_argument('--disable-dev-shm-usage')\n",
    "\n",
    "\n",
    "# open it, go to a website, and get results\n",
    "with webdriver.Chrome('chromedriver',options=options) as driver:\n",
    "  driver.get(LOGIN_URL)\n",
    "  \n",
    "  driver.find_element_by_name('username').send_keys(USERNAME)\n",
    "  driver.find_element_by_name('password').send_keys(PASSWORD + Keys.RETURN)\n",
    "  \n",
    "  # I am logged in, let go to a Bite\n",
    "  driver.get(PYBITES_BITE_URL)\n",
    "  # do your thing\n",
    "  #_html = driver.page_source\n",
    "  #print(_html)\n",
    "  driver.implicitly_wait(WAIT_SECONDS)\n",
    "  element = driver.find_element_by_name(\"template_code\")\n",
    "  CODE_TEMPLATE = element.get_attribute(\"value\")\n",
    "  element = driver.find_element_by_xpath(\"//a[@data-mui-controls='pane-default-2']/span\")\n",
    "  element.click()\n",
    "  TEST_NAME = element.text\n",
    "  TEST_NAME = TEST_NAME.strip(\"(\").strip(\")\")\n",
    "  driver.execute_script(\"mui.tabs.activate('pane-default-2')\")\n",
    "  # Simular Copy/Paste en Selenium\n",
    "  # Copy\n",
    "  cb = driver.execute_script(\"return copyTestToClipBoard();\")\n",
    "  alert = driver.switch_to.alert\n",
    "  alert.accept()\n",
    "  driver.switch_to.default_content\n",
    "  # Crear textArea\n",
    "  js = \"\"\"\n",
    "  function createTextArea() {\n",
    "        var tArea = document.createElement('textarea');\n",
    "        tArea.id = 'myTestCode';\n",
    "        var pane = document.getElementById('pane-default-2');\n",
    "        pane.appendChild(tArea);\n",
    "  }\n",
    "  createTextArea();\n",
    "  \"\"\"\n",
    "  cb = driver.execute_script(js)\n",
    "  # Paste\n",
    "  textAreaElement = driver.find_element_by_id(\"myTestCode\")\n",
    "  textAreaElement.click()\n",
    "  textAreaElement.send_keys(Keys.CONTROL + \"v\")\n",
    "  CODE_TEST = textAreaElement.get_property(\"value\")\n",
    "\n",
    "\n",
    "print(TEST_NAME.split(\"test_\")[1].upper() + \"\\n\")\n",
    "print(CODE_TEMPLATE + \"\\n\\n\\n\\n\")\n",
    "print(TEST_NAME.upper() + \"\\n\")\n",
    "print(CODE_TEST)\n",
    "#print(driver.page_source)\n",
    "\n",
    "\n"
   ]
  }
 ],
 "metadata": {
  "colab": {
   "collapsed_sections": [],
   "name": "PYBITES_SELENIUM.ipynb",
   "provenance": [
    {
     "file_id": "https://github.com/oleksis/pybites/blob/master/PYBITES_SELENIUM.ipynb",
     "timestamp": 1584227101566
    },
    {
     "file_id": "https://github.com/oleksis/pybites/blob/master/PYBITES_SELENIUM.ipynb",
     "timestamp": 1584128599856
    }
   ]
  },
  "kernelspec": {
   "display_name": "Python 3",
   "language": "python",
   "name": "python3"
  },
  "language_info": {
   "codemirror_mode": {
    "name": "ipython",
    "version": 3
   },
   "file_extension": ".py",
   "mimetype": "text/x-python",
   "name": "python",
   "nbconvert_exporter": "python",
   "pygments_lexer": "ipython3",
   "version": "3.7.1"
  }
 },
 "nbformat": 4,
 "nbformat_minor": 1
}
