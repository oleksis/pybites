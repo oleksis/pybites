{
 "cells": [
  {
   "cell_type": "code",
   "execution_count": 0,
   "metadata": {
    "colab": {},
    "colab_type": "code",
    "id": "Qg_exufR6ZP5",
    "scrolled": false
   },
   "outputs": [],
   "source": [
    "# Install Chromium, its Driver, and Selenium\n",
    "# https://gist.github.com/korakot/5c8e21a5af63966d80a676af0ce15067\n",
    "!apt install chromium-chromedriver\n",
    "!pip install selenium\n",
    "\n",
    "%env PB_USER=YOUR_USERNAME\n",
    "%env PB_PW=YOUR_PASSWORD"
   ]
  },
  {
   "cell_type": "code",
   "execution_count": 0,
   "metadata": {
    "colab": {},
    "colab_type": "code",
    "id": "_Ixc9z_U6ZQ7",
    "scrolled": true
   },
   "outputs": [],
   "source": [
    "# Platform Login Selenium\n",
    "# https://gist.github.com/pybites/0aa6d9833849a0942ed218b1d46c47b4#file-platform_login_selenium-py\n",
    "import os\n",
    "from IPython.display import HTML\n",
    "# make venv and pip install selenium\n",
    "from selenium import webdriver\n",
    "from selenium.webdriver.common.by import By\n",
    "from selenium.webdriver.common.action_chains import ActionChains\n",
    "from selenium.webdriver.common.keys import Keys\n",
    "from selenium.webdriver.support.ui import WebDriverWait\n",
    "from selenium.webdriver.support import expected_conditions as EC\n",
    "\n",
    "\n",
    "# Set your codechalleng.es username and password in venv/bin/activate, then source it\n",
    "USERNAME = os.getenv(\"PB_USER\") or \"YOUR_USERNAME\"\n",
    "PASSWORD = os.getenv(\"PB_PW\") or \"YOUR_PASSWORD\"\n",
    "\n",
    "BASE_URL = \"https://codechalleng.es\"\n",
    "LOGIN_URL = f\"{BASE_URL}/login/\"\n",
    "WAIT_SECONDS = 2\n",
    "CODE_TEMPLATE = \"\"\n",
    "TEST_NAME = \"\"\n",
    "CODE_TEST = \"\"\n",
    "\n",
    "\n",
    "# Set options to be headless, ..\n",
    "options = webdriver.ChromeOptions()\n",
    "options.add_argument('--headless')\n",
    "options.add_argument('--no-sandbox')\n",
    "options.add_argument('--disable-dev-shm-usage')\n",
    "\n",
    "\n",
    "# Open it, go to a website, and get results\n",
    "driver = webdriver.Chrome('chromedriver', options=options)\n",
    "\n",
    "driver.get(LOGIN_URL)\n",
    "  \n",
    "driver.find_element_by_name('username').send_keys(USERNAME)\n",
    "driver.find_element_by_name('password').send_keys(PASSWORD + Keys.RETURN)\n",
    "print(\"You are being logged\")\n",
    "  "
   ]
  },
  {
   "cell_type": "code",
   "execution_count": 0,
   "metadata": {
    "colab": {},
    "colab_type": "code",
    "id": "vU3-cNECB4oB"
   },
   "outputs": [],
   "source": [
    "# I am logged in, let go to a Bite\n",
    "# Set your Bite to code\n",
    "BITE_NUM = 108\n",
    "\n",
    "PYBITES_BITE_URL = f\"{BASE_URL}/bites/{BITE_NUM}\"\n",
    "driver.get(PYBITES_BITE_URL)\n",
    "# do your thing\n",
    "#_html = driver.page_source\n",
    "#print(_html)\n",
    "contentWrapperElement = driver.find_element_by_css_selector(\"div.mui-col-md-8\")\n",
    "contentWrapperElement = contentWrapperElement.get_attribute(\"innerHTML\")\n",
    "# Implicit Wait\n",
    "driver.implicitly_wait(WAIT_SECONDS)\n",
    "element = driver.find_element_by_name(\"template_code\")\n",
    "CODE_TEMPLATE = element.get_attribute(\"value\")\n",
    "element = driver.find_element_by_xpath(\"//a[@data-mui-controls='pane-default-2']/span\")\n",
    "element.click()\n",
    "TEST_NAME = element.text\n",
    "TEST_NAME = TEST_NAME.strip(\"(\").strip(\")\")\n",
    "driver.execute_script(\"mui.tabs.activate('pane-default-2')\")\n",
    "# Simular Copy/Paste en Selenium\n",
    "# Copy\n",
    "cb = driver.execute_script(\"return copyTestToClipBoard();\")\n",
    "alert = driver.switch_to.alert\n",
    "alert.accept()\n",
    "driver.switch_to.default_content\n",
    "# Crear textArea\n",
    "js = \"\"\"\n",
    "function createTextArea(){\n",
    "      var tArea = document.createElement('textarea');\n",
    "      tArea.id = 'myTestCode';\n",
    "      var pane = document.getElementById('pane-default-2');\n",
    "      pane.appendChild(tArea);\n",
    "}\n",
    "createTextArea();\n",
    "\"\"\"\n",
    "cb = driver.execute_script(js)\n",
    "# Paste\n",
    "textAreaElement = driver.find_element_by_id(\"myTestCode\")\n",
    "textAreaElement.click()\n",
    "textAreaElement.send_keys(Keys.CONTROL + \"v\")\n",
    "CODE_TEST = textAreaElement.get_property(\"value\")\n",
    "\n",
    "\n",
    "BITE_NAME = TEST_NAME.split(\"test_\")[1]\n",
    "\n",
    "with open(BITE_NAME, \"w\") as file:\n",
    "  file.write(CODE_TEMPLATE)\n",
    "  os.environ[\"PB_FILE\"] = BITE_NAME\n",
    "\n",
    "with open(TEST_NAME, \"w\") as file:\n",
    "  file.write(CODE_TEST)\n",
    "  os.environ[\"PB_TEST\"] = TEST_NAME\n",
    "\n",
    "_html = contentWrapperElement + \"\\n\\n\" + \\\n",
    "f\"<b>{BITE_NAME} and {TEST_NAME} files written to local storage!</b>\"\n",
    "\n",
    "HTML(_html)"
   ]
  },
  {
   "cell_type": "code",
   "execution_count": 4,
   "metadata": {
    "colab": {
     "base_uri": "https://localhost:8080/",
     "height": 537
    },
    "colab_type": "code",
    "executionInfo": {
     "elapsed": 1598,
     "status": "ok",
     "timestamp": 1584561711067,
     "user": {
      "displayName": "Oleksis Fraga Menéndez",
      "photoUrl": "https://lh3.googleusercontent.com/a-/AOh14GiEmDLfULCv0yBjSUJLJKaOti8gZ3IJDywwW5fHNA=s64",
      "userId": "10446488296499554506"
     },
     "user_tz": 240
    },
    "id": "oMXx75ryH90U",
    "outputId": "a04885b2-f671-4ab4-db34-a7193a8827a8",
    "scrolled": true
   },
   "outputs": [
    {
     "name": "stdout",
     "output_type": "stream",
     "text": [
      "from collections import namedtuple\n",
      "\n",
      "BeltStats = namedtuple('BeltStats', 'score ninjas')\n",
      "\n",
      "ninja_belts = {'yellow': BeltStats(50, 11),\n",
      "               'orange': BeltStats(100, 7),\n",
      "               'green': BeltStats(175, 1),\n",
      "               'blue': BeltStats(250, 5)}\n",
      "\n",
      "\n",
      "def get_total_points(belts=ninja_belts):\n",
      "    \"\"\"Calculate the amount of points rewarded on PyBites given the\n",
      "       ninja_belts dictionary, formula: belt score x belt owners (aka ninjas)\n",
      "       (of course there are more points but let's keep it simple)\n",
      "\n",
      "       Make your code generic so if we update ninja_belts to include\n",
      "       more belts (which we do in the tests) it will still work.\n",
      "\n",
      "       Ah and you can get score and ninjas from the namedtuple with nice\n",
      "       attribute access: belt.score / belt.ninjas (reason why we get\n",
      "       you familiar with namedtuple here, because we love them and use\n",
      "       them all over the place!)\n",
      "\n",
      "       Return the total number of points int from the function.\"\"\"\n",
      "    pass"
     ]
    }
   ],
   "source": [
    "!cat $PB_FILE"
   ]
  },
  {
   "cell_type": "markdown",
   "metadata": {
    "colab_type": "text",
    "id": "lL-tN17DelKG"
   },
   "source": [
    "Copy and paste the Code Template into the next cell. Write the solution and overwrite it to the file using the magic command **%%writefile \\<PB_FILE\\>** in the first line of the cell"
   ]
  },
  {
   "cell_type": "code",
   "execution_count": 5,
   "metadata": {
    "colab": {
     "base_uri": "https://localhost:8080/",
     "height": 35
    },
    "colab_type": "code",
    "executionInfo": {
     "elapsed": 507,
     "status": "ok",
     "timestamp": 1584561715094,
     "user": {
      "displayName": "Oleksis Fraga Menéndez",
      "photoUrl": "https://lh3.googleusercontent.com/a-/AOh14GiEmDLfULCv0yBjSUJLJKaOti8gZ3IJDywwW5fHNA=s64",
      "userId": "10446488296499554506"
     },
     "user_tz": 240
    },
    "id": "OL-pZRWxhxTQ",
    "outputId": "2feee00c-4668-451a-f954-1af27e50a1ca"
   },
   "outputs": [
    {
     "name": "stdout",
     "output_type": "stream",
     "text": [
      "%%writefile belts.py\n"
     ]
    }
   ],
   "source": [
    "print(f\"%%writefile {BITE_NAME}\")"
   ]
  },
  {
   "cell_type": "code",
   "execution_count": 9,
   "metadata": {
    "colab": {
     "base_uri": "https://localhost:8080/",
     "height": 35
    },
    "colab_type": "code",
    "executionInfo": {
     "elapsed": 478,
     "status": "ok",
     "timestamp": 1584561820395,
     "user": {
      "displayName": "Oleksis Fraga Menéndez",
      "photoUrl": "https://lh3.googleusercontent.com/a-/AOh14GiEmDLfULCv0yBjSUJLJKaOti8gZ3IJDywwW5fHNA=s64",
      "userId": "10446488296499554506"
     },
     "user_tz": 240
    },
    "id": "F7DgEmVLMIeZ",
    "outputId": "9438bab5-d7e3-43dc-c55f-db0da6082c56"
   },
   "outputs": [
    {
     "name": "stdout",
     "output_type": "stream",
     "text": [
      "Overwriting belts.py\n"
     ]
    }
   ],
   "source": [
    "%%writefile belts.py\n",
    "from collections import namedtuple\n",
    "\n",
    "BeltStats = namedtuple('BeltStats', 'scores ninjas')\n",
    "\n",
    "ninja_belts = {'yellow': BeltStats(50, 11),\n",
    "               'orange': BeltStats(100, 7),\n",
    "               'green': BeltStats(175, 1),\n",
    "               'blue': BeltStats(250, 5)}\n",
    "\n",
    "def get_total_points(belts=ninja_belts):\n",
    "  return sum([stats.scores * stats.ninjas\n",
    "              for stats in belts.values()])"
   ]
  },
  {
   "cell_type": "markdown",
   "metadata": {
    "colab_type": "text",
    "id": "7ntU1kVkpy0p"
   },
   "source": [
    "Uncomment the next line and run it until passing tests with **pytest**"
   ]
  },
  {
   "cell_type": "code",
   "execution_count": 7,
   "metadata": {
    "colab": {
     "base_uri": "https://localhost:8080/",
     "height": 375
    },
    "colab_type": "code",
    "executionInfo": {
     "elapsed": 1880,
     "status": "ok",
     "timestamp": 1584561725537,
     "user": {
      "displayName": "Oleksis Fraga Menéndez",
      "photoUrl": "https://lh3.googleusercontent.com/a-/AOh14GiEmDLfULCv0yBjSUJLJKaOti8gZ3IJDywwW5fHNA=s64",
      "userId": "10446488296499554506"
     },
     "user_tz": 240
    },
    "id": "7guKzbMOqKwj",
    "outputId": "e5d39981-b404-4127-b497-c096b81aeb79"
   },
   "outputs": [
    {
     "name": "stdout",
     "output_type": "stream",
     "text": [
      "\u001b[1m============================= test session starts ==============================\u001b[0m\n",
      "platform linux -- Python 3.6.9, pytest-3.6.4, py-1.8.1, pluggy-0.7.1\n",
      "rootdir: /content, inifile:\n",
      "plugins: typeguard-2.7.1\n",
      "\u001b[1m\r",
      "collecting 0 items                                                             \u001b[0m\u001b[1m\r",
      "collecting 2 items                                                             \u001b[0m\u001b[1m\r",
      "collected 2 items                                                              \u001b[0m\n",
      "\n",
      "test_belts.py ..\u001b[36m                                                         [100%]\u001b[0m\n",
      "\n",
      "\u001b[32m\u001b[1m=========================== 2 passed in 0.02 seconds ===========================\u001b[0m\n",
      "!python -m pytest -V test_belts.py\n"
     ]
    }
   ],
   "source": [
    "#!pytest [options] $PB_TEST\n",
    "#!pytest --capture=fd $PB_TEST\n",
    "!python -m pytest $PB_TEST\n",
    "print(f\"!python -m pytest -V {TEST_NAME}\")"
   ]
  },
  {
   "cell_type": "markdown",
   "metadata": {
    "colab_type": "text",
    "id": "xAM4jpe3Hu1X"
   },
   "source": [
    "When you are sure that your code passes the Test, execute the next cell for **”SAVE AND RUN TESTS**"
   ]
  },
  {
   "cell_type": "code",
   "execution_count": 0,
   "metadata": {
    "colab": {},
    "colab_type": "code",
    "id": "C6cGyLd7WBsw"
   },
   "outputs": [],
   "source": [
    "with open(BITE_NAME, \"rb\") as file:\n",
    "  CODE = file.read()\n",
    "\n",
    "CODE = str(CODE).strip(\"b\").strip(\"'\").strip('\"')\n",
    "\n",
    "js = f\"\"\"function MyCopyCodeToForm(){{\n",
    "  var code = `{CODE}`;\n",
    "  document.getElementById('code').value = code;\n",
    "}}\n",
    "MyCopyCodeToForm();\n",
    "var saveRunTest = document.getElementById('save');\n",
    "saveRunTest.setAttribute('onclick', 'return MyCopyCodeToForm();')\n",
    "saveRunTest.click();\n",
    "\"\"\"\n",
    "driver.execute_script(js)\n",
    "print(\"SAVE AND RUN TESTS\")"
   ]
  }
 ],
 "metadata": {
  "colab": {
   "collapsed_sections": [],
   "name": "PYBITES_SELENIUM.ipynb",
   "provenance": [
    {
     "file_id": "https://github.com/oleksis/pybites/blob/master/PYBITES_SELENIUM.ipynb",
     "timestamp": 1584542108220
    },
    {
     "file_id": "https://github.com/oleksis/pybites/blob/master/PYBITES_SELENIUM.ipynb",
     "timestamp": 1584416986878
    },
    {
     "file_id": "https://github.com/oleksis/pybites/blob/master/PYBITES_SELENIUM.ipynb",
     "timestamp": 1584401937986
    },
    {
     "file_id": "https://github.com/oleksis/pybites/blob/master/PYBITES_SELENIUM.ipynb",
     "timestamp": 1584377303708
    },
    {
     "file_id": "https://github.com/oleksis/pybites/blob/master/PYBITES_SELENIUM.ipynb",
     "timestamp": 1584343324655
    },
    {
     "file_id": "https://github.com/oleksis/pybites/blob/master/PYBITES_SELENIUM.ipynb",
     "timestamp": 1584309040779
    },
    {
     "file_id": "https://github.com/oleksis/pybites/blob/master/PYBITES_SELENIUM.ipynb",
     "timestamp": 1584227101566
    },
    {
     "file_id": "https://github.com/oleksis/pybites/blob/master/PYBITES_SELENIUM.ipynb",
     "timestamp": 1584128599856
    }
   ]
  },
  "kernelspec": {
   "display_name": "Python 3",
   "language": "python",
   "name": "python3"
  },
  "language_info": {
   "codemirror_mode": {
    "name": "ipython",
    "version": 3
   },
   "file_extension": ".py",
   "mimetype": "text/x-python",
   "name": "python",
   "nbconvert_exporter": "python",
   "pygments_lexer": "ipython3",
   "version": "3.7.1"
  }
 },
 "nbformat": 4,
 "nbformat_minor": 1
}
