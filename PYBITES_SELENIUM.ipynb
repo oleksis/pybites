{
 "cells": [
  {
   "cell_type": "code",
   "execution_count": 0,
   "metadata": {
    "colab": {},
    "colab_type": "code",
    "id": "Qg_exufR6ZP5",
    "scrolled": true
   },
   "outputs": [],
   "source": [
    "# https://gist.github.com/korakot/5c8e21a5af63966d80a676af0ce15067\n",
    "# install chromium, its driver, and selenium\n",
    "!apt install chromium-chromedriver\n",
    "!pip install selenium\n",
    "\n",
    "%env PB_USER=YOUR_USERNAME\n",
    "%env PB_PW=YOUR_PASSWORD"
   ]
  },
  {
   "cell_type": "code",
   "execution_count": 0,
   "metadata": {
    "colab": {
     "base_uri": "https://localhost:8080/",
     "height": 421
    },
    "colab_type": "code",
    "executionInfo": {
     "elapsed": 13336,
     "status": "ok",
     "timestamp": 1584399420472,
     "user": {
      "displayName": "",
      "photoUrl": "",
      "userId": ""
     },
     "user_tz": 240
    },
    "id": "_Ixc9z_U6ZQ7",
    "outputId": "c0b5197b-baa5-4aad-80d3-f0480478fb56"
   },
   "outputs": [
    {
     "data": {
      "text/html": [
       "\n",
       "      <h2 class=\"mui--text-headline title\">\n",
       "      \n",
       "        <a href=\"/profiles/pybites\" target=\"_blank\">\n",
       "          <img class=\"ghMiniAvatar\" src=\"https://github.com/pybites.png?size=40\" alt=\"GH avatar\">\n",
       "        </a> \n",
       "      \n",
       "      Bite 103. Loop through a dictionary and pluralise a word\n",
       "        \n",
       "\n",
       "        \n",
       "          <form id=\"bitemarkForm\" action=\"\" class=\"mui-form\" method=\"post\">\n",
       "            <input type=\"hidden\" name=\"csrfmiddlewaretoken\" value=\"Dne5Wrplii3sHSSddwysus236ZnhNWieszjVJr7DgNKvif2fgu9lyoJCfwGbQf3E\">\n",
       "            <input name=\"bitemarkChange\" id=\"bitemarkChange\" type=\"hidden\" value=\"1\">\n",
       "            \n",
       "              <button type=\"submit\" class=\"bitemarkStar\" id=\"bitemark\" name=\"bitemark\" title=\"Add to your favorites ('bitemark it')\">☆</button>\n",
       "            \n",
       "          </form>\n",
       "        \n",
       "      </h2>\n",
       "\n",
       "      <blockquote class=\"biteDescription scrollbar2\">\n",
       "        <p>You're given a dictionary of people and the number of games they've won.</p><p>Use a for loop to iterate over the dictionary and print out the users name and how many games they've won in the following format: <i>sara has won n games</i></p><p>To make it human readable, pluralise the word <i>game</i> to suit the number of games won.</p>\n",
       "\n",
       "        \n",
       "\n",
       "      </blockquote>\n",
       "\n",
       "      \n",
       "\n",
       "    \n",
       "\n",
       "<b>winners.py and test_winners.py files written to local storage!</b>"
      ],
      "text/plain": [
       "<IPython.core.display.HTML object>"
      ]
     },
     "execution_count": 27,
     "metadata": {
      "tags": []
     },
     "output_type": "execute_result"
    }
   ],
   "source": [
    "# https://gist.github.com/pybites/0aa6d9833849a0942ed218b1d46c47b4#file-platform_login_selenium-py\n",
    "import os\n",
    "from IPython.display import HTML\n",
    "# make venv and pip install selenium\n",
    "from selenium import webdriver\n",
    "from selenium.webdriver.common.by import By\n",
    "from selenium.webdriver.common.action_chains import ActionChains\n",
    "from selenium.webdriver.common.keys import Keys\n",
    "from selenium.webdriver.support.ui import WebDriverWait\n",
    "from selenium.webdriver.support import expected_conditions as EC\n",
    "\n",
    "\n",
    "# set your codechalleng.es username and password in venv/bin/activate, then source it\n",
    "USERNAME = os.getenv(\"PB_USER\") or \"YOUR_USERNAME\"\n",
    "PASSWORD = os.getenv(\"PB_PW\") or \"YOUR_PASSWORD\"\n",
    "# Set your Bite to code\n",
    "BITE_NUM = 103\n",
    "\n",
    "BASE_URL = \"https://codechalleng.es\"\n",
    "LOGIN_URL = f\"{BASE_URL}/login/\"\n",
    "PYBITES_BITE_URL = f\"{BASE_URL}/bites/{BITE_NUM}\"\n",
    "WAIT_SECONDS = 2\n",
    "CODE_TEMPLATE = \"\"\n",
    "TEST_NAME = \"\"\n",
    "CODE_TEST = \"\"\n",
    "\n",
    "\n",
    "# set options to be headless, ..\n",
    "options = webdriver.ChromeOptions()\n",
    "options.add_argument('--headless')\n",
    "options.add_argument('--no-sandbox')\n",
    "options.add_argument('--disable-dev-shm-usage')\n",
    "\n",
    "\n",
    "# open it, go to a website, and get results\n",
    "driver = webdriver.Chrome('chromedriver', options=options)\n",
    "\n",
    "driver.get(LOGIN_URL)\n",
    "  \n",
    "driver.find_element_by_name('username').send_keys(USERNAME)\n",
    "driver.find_element_by_name('password').send_keys(PASSWORD + Keys.RETURN)\n",
    "  \n",
    "# I am logged in, let go to a Bite\n",
    "driver.get(PYBITES_BITE_URL)\n",
    "# do your thing\n",
    "#_html = driver.page_source\n",
    "#print(_html)\n",
    "contentWrapperElement = driver.find_element_by_css_selector(\"div.mui-col-md-8\")\n",
    "contentWrapperElement = contentWrapperElement.get_attribute(\"innerHTML\")\n",
    "# Implicit Wait\n",
    "driver.implicitly_wait(WAIT_SECONDS)\n",
    "element = driver.find_element_by_name(\"template_code\")\n",
    "CODE_TEMPLATE = element.get_attribute(\"value\")\n",
    "element = driver.find_element_by_xpath(\"//a[@data-mui-controls='pane-default-2']/span\")\n",
    "element.click()\n",
    "TEST_NAME = element.text\n",
    "TEST_NAME = TEST_NAME.strip(\"(\").strip(\")\")\n",
    "driver.execute_script(\"mui.tabs.activate('pane-default-2')\")\n",
    "# Simular Copy/Paste en Selenium\n",
    "# Copy\n",
    "cb = driver.execute_script(\"return copyTestToClipBoard();\")\n",
    "alert = driver.switch_to.alert\n",
    "alert.accept()\n",
    "driver.switch_to.default_content\n",
    "# Crear textArea\n",
    "js = \"\"\"\n",
    "function createTextArea(){\n",
    "      var tArea = document.createElement('textarea');\n",
    "      tArea.id = 'myTestCode';\n",
    "      var pane = document.getElementById('pane-default-2');\n",
    "      pane.appendChild(tArea);\n",
    "}\n",
    "createTextArea();\n",
    "\"\"\"\n",
    "cb = driver.execute_script(js)\n",
    "# Paste\n",
    "textAreaElement = driver.find_element_by_id(\"myTestCode\")\n",
    "textAreaElement.click()\n",
    "textAreaElement.send_keys(Keys.CONTROL + \"v\")\n",
    "CODE_TEST = textAreaElement.get_property(\"value\")\n",
    "\n",
    "\n",
    "BITE_NAME = TEST_NAME.split(\"test_\")[1]\n",
    "\n",
    "with open(BITE_NAME, \"w\") as file:\n",
    "  file.write(CODE_TEMPLATE)\n",
    "  os.environ[\"PB_FILE\"] = BITE_NAME\n",
    "\n",
    "with open(TEST_NAME, \"w\") as file:\n",
    "  file.write(CODE_TEST)\n",
    "  os.environ[\"PB_TEST\"] = TEST_NAME\n",
    "\n",
    "_html = contentWrapperElement + \"\\n\\n\" + \\\n",
    "f\"<b>{BITE_NAME} and {TEST_NAME} files written to local storage!</b>\"\n",
    "\n",
    "HTML(_html)\n"
   ]
  },
  {
   "cell_type": "code",
   "execution_count": 0,
   "metadata": {
    "colab": {
     "base_uri": "https://localhost:8080/",
     "height": 447
    },
    "colab_type": "code",
    "executionInfo": {
     "elapsed": 3537,
     "status": "ok",
     "timestamp": 1584399918970,
     "user": {
      "displayName": "",
      "photoUrl": "",
      "userId": ""
     },
     "user_tz": 240
    },
    "id": "oMXx75ryH90U",
    "outputId": "ab06b18d-ab29-4224-93f7-71c263cb174c"
   },
   "outputs": [
    {
     "name": "stdout",
     "output_type": "stream",
     "text": [
      "games_won = dict(sara=0, bob=1, tim=5, julian=3, jim=1)\n",
      "\n",
      "\n",
      "def print_game_stats(games_won):\n",
      "    \"\"\"Loop through games_won's dict (key, value) pairs (dict.items)\n",
      "       printing (print, not return) how many games each person has won,\n",
      "       pluralize 'game' based on number.\n",
      "\n",
      "       Expected output (ignore the docstring's indentation):\n",
      "\n",
      "       sara has won 0 games\n",
      "       bob has won 1 game\n",
      "       tim has won 5 games\n",
      "       julian has won 3 games\n",
      "       jim has won 1 game\n",
      "\n",
      "       (Note that as of Python 3.7 - which we're using atm - dict insert order\n",
      "       is retained so no sorting is required for this Bite.)\n",
      "    \"\"\"\n",
      "    pass"
     ]
    }
   ],
   "source": [
    "!cat $PB_FILE"
   ]
  },
  {
   "cell_type": "markdown",
   "metadata": {
    "colab_type": "text",
    "id": "lL-tN17DelKG"
   },
   "source": [
    "Copy and paste the Code Template into the next cell. Write the solution and overwrite it to the file using the magic command **%%writefile \\<PB_FILE\\>** in the first line of the cell"
   ]
  },
  {
   "cell_type": "code",
   "execution_count": 0,
   "metadata": {
    "colab": {
     "base_uri": "https://localhost:8080/",
     "height": 35
    },
    "colab_type": "code",
    "executionInfo": {
     "elapsed": 1060,
     "status": "ok",
     "timestamp": 1584399942705,
     "user": {
      "displayName": "",
      "photoUrl": "",
      "userId": ""
     },
     "user_tz": 240
    },
    "id": "OL-pZRWxhxTQ",
    "outputId": "2aeb2f18-3d1b-4d89-8fb0-41252d94dddc"
   },
   "outputs": [
    {
     "name": "stdout",
     "output_type": "stream",
     "text": [
      "%%writefile winners.py\n"
     ]
    }
   ],
   "source": [
    "print(f\"%%writefile {BITE_NAME}\")"
   ]
  },
  {
   "cell_type": "code",
   "execution_count": 0,
   "metadata": {
    "colab": {
     "base_uri": "https://localhost:8080/",
     "height": 35
    },
    "colab_type": "code",
    "executionInfo": {
     "elapsed": 1045,
     "status": "ok",
     "timestamp": 1584401820237,
     "user": {
      "displayName": "",
      "photoUrl": "",
      "userId": ""
     },
     "user_tz": 240
    },
    "id": "F7DgEmVLMIeZ",
    "outputId": "c7fe9510-946a-4692-e2c0-03e1f4991e59"
   },
   "outputs": [
    {
     "name": "stdout",
     "output_type": "stream",
     "text": [
      "Overwriting winners.py\n"
     ]
    }
   ],
   "source": [
    "%%writefile winners.py\n",
    "games_won = dict(sara=0, bob=1, tim=5, julian=3, jim=1)\n",
    "\n",
    "\n",
    "def print_game_stats(game_won):\n",
    "\n",
    "  def _pluralize(num_game):\n",
    "    return (\"game\" if num_game == 1 else \"games\")\n",
    "\n",
    "  for player, game in games_won.items():\n",
    "    print(player + \" has won \" + str(game) + \" {game}\".format(game=_pluralize(game)))"
   ]
  },
  {
   "cell_type": "markdown",
   "metadata": {
    "colab_type": "text",
    "id": "7ntU1kVkpy0p"
   },
   "source": [
    "Uncomment the next line and run it until passing tests with **pytest**"
   ]
  },
  {
   "cell_type": "code",
   "execution_count": 0,
   "metadata": {
    "colab": {
     "base_uri": "https://localhost:8080/",
     "height": 346
    },
    "colab_type": "code",
    "executionInfo": {
     "elapsed": 7217,
     "status": "ok",
     "timestamp": 1584401831950,
     "user": {
      "displayName": "",
      "photoUrl": "",
      "userId": ""
     },
     "user_tz": 240
    },
    "id": "7guKzbMOqKwj",
    "outputId": "9b8a5442-936d-4c52-b28f-310039d21df3"
   },
   "outputs": [
    {
     "name": "stdout",
     "output_type": "stream",
     "text": [
      "\u001b[1m============================= test session starts ==============================\u001b[0m\n",
      "platform linux2 -- Python 2.7.17, pytest-3.6.4, py-1.8.0, pluggy-0.7.1\n",
      "rootdir: /content, inifile:\n",
      "\u001b[1m\r",
      "collecting 0 items                                                             \u001b[0m\u001b[1m\r",
      "collecting 1 item                                                              \u001b[0m\u001b[1m\r",
      "collected 1 item                                                               \u001b[0m\n",
      "\n",
      "test_winners.py .\u001b[36m                                                        [100%]\u001b[0m\n",
      "\n",
      "\u001b[32m\u001b[1m=========================== 1 passed in 0.01 seconds ===========================\u001b[0m\n",
      "!python -m pytest test_winners.py\n"
     ]
    }
   ],
   "source": [
    "#!pytest [options] $PB_TEST\n",
    "!pytest --capture=fd $PB_TEST\n",
    "print(f\"!python -m pytest {TEST_NAME}\")"
   ]
  },
  {
   "cell_type": "markdown",
   "metadata": {
    "colab_type": "text",
    "id": "xAM4jpe3Hu1X"
   },
   "source": [
    "When you are sure that your code passes the Test, execute the next cell for **”SAVE AND RUN TESTS**"
   ]
  },
  {
   "cell_type": "code",
   "execution_count": 0,
   "metadata": {
    "colab": {
     "base_uri": "https://localhost:8080/",
     "height": 35
    },
    "colab_type": "code",
    "executionInfo": {
     "elapsed": 6530,
     "status": "ok",
     "timestamp": 1584401883884,
     "user": {
      "displayName": "",
      "photoUrl": "",
      "userId": ""
     },
     "user_tz": 240
    },
    "id": "C6cGyLd7WBsw",
    "outputId": "2bc17bdc-3f1e-4d2d-d108-6f08a3a4750e"
   },
   "outputs": [
    {
     "name": "stdout",
     "output_type": "stream",
     "text": [
      "SAVE AND RUN TESTS\n"
     ]
    }
   ],
   "source": [
    "with open(BITE_NAME, \"r\") as file:\n",
    "  CODE = file.read()\n",
    "\n",
    "\n",
    "js = f\"\"\"function MyCopyCodeToForm(){{\n",
    "  var code = `{CODE}`;\n",
    "  document.getElementById('code').value = code;\n",
    "}}\n",
    "MyCopyCodeToForm();\n",
    "var saveRunTest = document.getElementById('save');\n",
    "saveRunTest.setAttribute('onclick', 'return MyCopyCodeToForm();')\n",
    "saveRunTest.click();\n",
    "\"\"\"\n",
    "driver.execute_script(js)\n",
    "print(\"SAVE AND RUN TESTS\")"
   ]
  }
 ],
 "metadata": {
  "colab": {
   "collapsed_sections": [],
   "name": "PYBITES_SELENIUM.ipynb",
   "provenance": [
    {
     "file_id": "https://github.com/oleksis/pybites/blob/master/PYBITES_SELENIUM.ipynb",
     "timestamp": 1584401937986
    },
    {
     "file_id": "https://github.com/oleksis/pybites/blob/master/PYBITES_SELENIUM.ipynb",
     "timestamp": 1584377303708
    },
    {
     "file_id": "https://github.com/oleksis/pybites/blob/master/PYBITES_SELENIUM.ipynb",
     "timestamp": 1584343324655
    },
    {
     "file_id": "https://github.com/oleksis/pybites/blob/master/PYBITES_SELENIUM.ipynb",
     "timestamp": 1584309040779
    },
    {
     "file_id": "https://github.com/oleksis/pybites/blob/master/PYBITES_SELENIUM.ipynb",
     "timestamp": 1584227101566
    },
    {
     "file_id": "https://github.com/oleksis/pybites/blob/master/PYBITES_SELENIUM.ipynb",
     "timestamp": 1584128599856
    }
   ]
  },
  "kernelspec": {
   "display_name": "Python 3",
   "language": "python",
   "name": "python3"
  },
  "language_info": {
   "codemirror_mode": {
    "name": "ipython",
    "version": 3
   },
   "file_extension": ".py",
   "mimetype": "text/x-python",
   "name": "python",
   "nbconvert_exporter": "python",
   "pygments_lexer": "ipython3",
   "version": "3.7.1"
  }
 },
 "nbformat": 4,
 "nbformat_minor": 1
}
