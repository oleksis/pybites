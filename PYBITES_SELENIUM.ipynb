{
 "cells": [
  {
   "cell_type": "code",
   "execution_count": null,
   "metadata": {
    "colab": {
     "base_uri": "https://localhost:8080/",
     "height": 179
    },
    "colab_type": "code",
    "executionInfo": {
     "elapsed": 5914,
     "status": "ok",
     "timestamp": 1584372638916,
     "user": {
      "displayName": "Oleksis Fraga Menéndez",
      "photoUrl": "https://lh3.googleusercontent.com/a-/AOh14GiEmDLfULCv0yBjSUJLJKaOti8gZ3IJDywwW5fHNA=s64",
      "userId": "10446488296499554506"
     },
     "user_tz": 240
    },
    "id": "Qg_exufR6ZP5",
    "outputId": "5690223b-a708-4217-fcbd-6ce70ab3e915",
    "scrolled": true
   },
   "outputs": [],
   "source": [
    "# https://gist.github.com/korakot/5c8e21a5af63966d80a676af0ce15067\n",
    "# install chromium, its driver, and selenium\n",
    "!apt install chromium-chromedriver\n",
    "!pip install selenium\n",
    "\n",
    "%env PB_USER=YOUR_USERNAME\n",
    "%env PB_PW=YOUR_PASSWORD"
   ]
  },
  {
   "cell_type": "code",
   "execution_count": 2,
   "metadata": {
    "colab": {
     "base_uri": "https://localhost:8080/",
     "height": 95
    },
    "colab_type": "code",
    "executionInfo": {
     "elapsed": 21240,
     "status": "ok",
     "timestamp": 1584372669644,
     "user": {
      "displayName": "Oleksis Fraga Menéndez",
      "photoUrl": "https://lh3.googleusercontent.com/a-/AOh14GiEmDLfULCv0yBjSUJLJKaOti8gZ3IJDywwW5fHNA=s64",
      "userId": "10446488296499554506"
     },
     "user_tz": 240
    },
    "id": "_Ixc9z_U6ZQ7",
    "outputId": "4307749f-a7e9-4510-fb66-db31d8dcd365"
   },
   "outputs": [
    {
     "name": "stdout",
     "output_type": "stream",
     "text": [
      "driving.py and test_driving.py files written to local storage!\n"
     ]
    }
   ],
   "source": [
    "# https://gist.github.com/pybites/0aa6d9833849a0942ed218b1d46c47b4#file-platform_login_selenium-py\n",
    "import os\n",
    "from IPython.display import HTML\n",
    "# make venv and pip install selenium\n",
    "from selenium import webdriver\n",
    "from selenium.webdriver.common.by import By\n",
    "from selenium.webdriver.common.action_chains import ActionChains\n",
    "from selenium.webdriver.common.keys import Keys\n",
    "from selenium.webdriver.support.ui import WebDriverWait\n",
    "from selenium.webdriver.support import expected_conditions as EC\n",
    "\n",
    "\n",
    "# set your codechalleng.es username and password in venv/bin/activate, then source it\n",
    "USERNAME = os.getenv(\"PB_USER\") or \"YOUR_USERNAME\"\n",
    "PASSWORD = os.getenv(\"PB_PW\") or \"YOUR_PASSWORD\"\n",
    "# Set your Bite to code\n",
    "BITE_NUM = 101\n",
    "\n",
    "BASE_URL = \"https://codechalleng.es\"\n",
    "LOGIN_URL = f\"{BASE_URL}/login/\"\n",
    "PYBITES_BITE_URL = f\"{BASE_URL}/bites/{BITE_NUM}\"\n",
    "WAIT_SECONDS = 2\n",
    "CODE_TEMPLATE = \"\"\n",
    "TEST_NAME = \"\"\n",
    "CODE_TEST = \"\"\n",
    "\n",
    "\n",
    "# set options to be headless, ..\n",
    "options = webdriver.ChromeOptions()\n",
    "options.add_argument('--headless')\n",
    "options.add_argument('--no-sandbox')\n",
    "options.add_argument('--disable-dev-shm-usage')\n",
    "\n",
    "\n",
    "# open it, go to a website, and get results\n",
    "driver = webdriver.Chrome('chromedriver', options=options)\n",
    "\n",
    "driver.get(LOGIN_URL)\n",
    "  \n",
    "driver.find_element_by_name('username').send_keys(USERNAME)\n",
    "driver.find_element_by_name('password').send_keys(PASSWORD + Keys.RETURN)\n",
    "  \n",
    "# I am logged in, let go to a Bite\n",
    "driver.get(PYBITES_BITE_URL)\n",
    "# do your thing\n",
    "#_html = driver.page_source\n",
    "#print(_html)\n",
    "driver.implicitly_wait(WAIT_SECONDS)\n",
    "element = driver.find_element_by_name(\"template_code\")\n",
    "CODE_TEMPLATE = element.get_attribute(\"value\")\n",
    "element = driver.find_element_by_xpath(\"//a[@data-mui-controls='pane-default-2']/span\")\n",
    "element.click()\n",
    "TEST_NAME = element.text\n",
    "TEST_NAME = TEST_NAME.strip(\"(\").strip(\")\")\n",
    "driver.execute_script(\"mui.tabs.activate('pane-default-2')\")\n",
    "# Simular Copy/Paste en Selenium\n",
    "# Copy\n",
    "cb = driver.execute_script(\"return copyTestToClipBoard();\")\n",
    "alert = driver.switch_to.alert\n",
    "alert.accept()\n",
    "driver.switch_to.default_content\n",
    "# Crear textArea\n",
    "js = \"\"\"\n",
    "function createTextArea(){\n",
    "      var tArea = document.createElement('textarea');\n",
    "      tArea.id = 'myTestCode';\n",
    "      var pane = document.getElementById('pane-default-2');\n",
    "      pane.appendChild(tArea);\n",
    "}\n",
    "createTextArea();\n",
    "\"\"\"\n",
    "cb = driver.execute_script(js)\n",
    "# Paste\n",
    "textAreaElement = driver.find_element_by_id(\"myTestCode\")\n",
    "textAreaElement.click()\n",
    "textAreaElement.send_keys(Keys.CONTROL + \"v\")\n",
    "CODE_TEST = textAreaElement.get_property(\"value\")\n",
    "\n",
    "\n",
    "BITE_NAME = TEST_NAME.split(\"test_\")[1]\n",
    "\n",
    "with open(BITE_NAME, \"w\") as file:\n",
    "  file.write(CODE_TEMPLATE)\n",
    "  os.environ[\"PB_FILE\"] = BITE_NAME\n",
    "\n",
    "with open(TEST_NAME, \"w\") as file:\n",
    "  file.write(CODE_TEST)\n",
    "\n",
    "print(f\"{BITE_NAME} and {TEST_NAME} files written to local storage!\")\n"
   ]
  },
  {
   "cell_type": "code",
   "execution_count": 3,
   "metadata": {
    "colab": {
     "base_uri": "https://localhost:8080/",
     "height": 213
    },
    "colab_type": "code",
    "executionInfo": {
     "elapsed": 1878,
     "status": "ok",
     "timestamp": 1584372677094,
     "user": {
      "displayName": "Oleksis Fraga Menéndez",
      "photoUrl": "https://lh3.googleusercontent.com/a-/AOh14GiEmDLfULCv0yBjSUJLJKaOti8gZ3IJDywwW5fHNA=s64",
      "userId": "10446488296499554506"
     },
     "user_tz": 240
    },
    "id": "oMXx75ryH90U",
    "outputId": "a1229a2e-d98a-4b87-cd9b-b9220a741c03"
   },
   "outputs": [
    {
     "name": "stdout",
     "output_type": "stream",
     "text": [
      "MIN_DRIVING_AGE = 18\n",
      "\n",
      "\n",
      "def allowed_driving(name, age):\n",
      "    \"\"\"Print '{name} is allowed to drive' or '{name} is not allowed to drive'\n",
      "       checking the passed in age against the MIN_DRIVING_AGE constant\"\"\"\n",
      "    pass"
     ]
    }
   ],
   "source": [
    "!cat $PB_FILE"
   ]
  },
  {
   "cell_type": "markdown",
   "metadata": {
    "colab_type": "text",
    "id": "lL-tN17DelKG"
   },
   "source": [
    "Copy and paste the Code Template into the next cell. Write the solution and overwrite it to the file using the magic command **%%writefile \\<PB_FILE\\>** in the first line of the cell"
   ]
  },
  {
   "cell_type": "code",
   "execution_count": 0,
   "metadata": {
    "colab": {
     "base_uri": "https://localhost:8080/",
     "height": 35
    },
    "colab_type": "code",
    "executionInfo": {
     "elapsed": 19026,
     "status": "ok",
     "timestamp": 1584317796576,
     "user": {
      "displayName": "Oleksis Fraga Menéndez",
      "photoUrl": "https://lh3.googleusercontent.com/a-/AOh14GiEmDLfULCv0yBjSUJLJKaOti8gZ3IJDywwW5fHNA=s64",
      "userId": "10446488296499554506"
     },
     "user_tz": 240
    },
    "id": "OL-pZRWxhxTQ",
    "outputId": "e443c3b2-9d5c-4620-fcc6-3815080ab8b5"
   },
   "outputs": [
    {
     "name": "stdout",
     "output_type": "stream",
     "text": [
      "%%writefile driving.py\n"
     ]
    }
   ],
   "source": [
    "print(f\"%%writefile {BITE_NAME}\")"
   ]
  },
  {
   "cell_type": "code",
   "execution_count": 4,
   "metadata": {
    "colab": {
     "base_uri": "https://localhost:8080/",
     "height": 35
    },
    "colab_type": "code",
    "executionInfo": {
     "elapsed": 623,
     "status": "ok",
     "timestamp": 1584372689320,
     "user": {
      "displayName": "Oleksis Fraga Menéndez",
      "photoUrl": "https://lh3.googleusercontent.com/a-/AOh14GiEmDLfULCv0yBjSUJLJKaOti8gZ3IJDywwW5fHNA=s64",
      "userId": "10446488296499554506"
     },
     "user_tz": 240
    },
    "id": "F7DgEmVLMIeZ",
    "outputId": "f9c17882-be1d-467a-e9a9-7b0c4d9adf55"
   },
   "outputs": [
    {
     "name": "stdout",
     "output_type": "stream",
     "text": [
      "Overwriting driving.py\n"
     ]
    }
   ],
   "source": [
    "%%writefile driving.py\n",
    "MIN_DRIVING_AGE = 18\n",
    "\n",
    "\n",
    "def allowed_driving(name, age):\n",
    "  if age >= MIN_DRIVING_AGE:\n",
    "    print(\"{name} is allowed to drive\".format(name=name))\n",
    "  else:\n",
    "    print(\"{name} is not allowed to drive\".format(name=name))"
   ]
  },
  {
   "cell_type": "markdown",
   "metadata": {
    "colab_type": "text",
    "id": "7ntU1kVkpy0p"
   },
   "source": [
    "Uncomment the next line and run it until passing tests with **pytest**"
   ]
  },
  {
   "cell_type": "code",
   "execution_count": 5,
   "metadata": {
    "colab": {
     "base_uri": "https://localhost:8080/",
     "height": 326
    },
    "colab_type": "code",
    "executionInfo": {
     "elapsed": 2075,
     "status": "ok",
     "timestamp": 1584372699217,
     "user": {
      "displayName": "Oleksis Fraga Menéndez",
      "photoUrl": "https://lh3.googleusercontent.com/a-/AOh14GiEmDLfULCv0yBjSUJLJKaOti8gZ3IJDywwW5fHNA=s64",
      "userId": "10446488296499554506"
     },
     "user_tz": 240
    },
    "id": "7guKzbMOqKwj",
    "outputId": "694e3ed7-f031-44d6-ce2e-5f7745bdba44"
   },
   "outputs": [
    {
     "name": "stdout",
     "output_type": "stream",
     "text": [
      "\u001b[1m============================= test session starts ==============================\u001b[0m\n",
      "platform linux2 -- Python 2.7.17, pytest-3.6.4, py-1.8.0, pluggy-0.7.1\n",
      "rootdir: /content, inifile:\n",
      "\u001b[1m\r",
      "collecting 0 items                                                             \u001b[0m\u001b[1m\r",
      "collecting 3 items                                                             \u001b[0m\u001b[1m\r",
      "collected 3 items                                                              \u001b[0m\n",
      "\n",
      "test_driving.py ...\u001b[36m                                                      [100%]\u001b[0m\n",
      "\n",
      "\u001b[32m\u001b[1m=========================== 3 passed in 0.03 seconds ===========================\u001b[0m\n"
     ]
    }
   ],
   "source": [
    "!pytest"
   ]
  },
  {
   "cell_type": "markdown",
   "metadata": {
    "colab_type": "text",
    "id": "xAM4jpe3Hu1X"
   },
   "source": [
    "When you are sure that your code passes the Test, execute the next cell for **”SAVE AND RUN TESTS**"
   ]
  },
  {
   "cell_type": "code",
   "execution_count": 0,
   "metadata": {
    "colab": {},
    "colab_type": "code",
    "id": "C6cGyLd7WBsw"
   },
   "outputs": [],
   "source": [
    "with open(BITE_NAME, \"r\") as file:\n",
    "  CODE = file.read()\n",
    "\n",
    "\n",
    "js = f\"\"\"function MyCopyCodeToForm(){{\n",
    "  var code = `{CODE}`;\n",
    "  document.getElementById('code').value = code;\n",
    "}}\n",
    "MyCopyCodeToForm();\n",
    "var saveRunTest = document.getElementById('save');\n",
    "saveRunTest.setAttribute('onclick', 'return MyCopyCodeToForm();')\n",
    "saveRunTest.click();\n",
    "\"\"\"\n",
    "driver.execute_script(js)\n",
    "print(\"SAVE AND RUN TESTS\")"
   ]
  }
 ],
 "metadata": {
  "colab": {
   "collapsed_sections": [],
   "name": "PYBITES_SELENIUM.ipynb",
   "provenance": [
    {
     "file_id": "https://github.com/oleksis/pybites/blob/master/PYBITES_SELENIUM.ipynb",
     "timestamp": 1584343324655
    },
    {
     "file_id": "https://github.com/oleksis/pybites/blob/master/PYBITES_SELENIUM.ipynb",
     "timestamp": 1584309040779
    },
    {
     "file_id": "https://github.com/oleksis/pybites/blob/master/PYBITES_SELENIUM.ipynb",
     "timestamp": 1584227101566
    },
    {
     "file_id": "https://github.com/oleksis/pybites/blob/master/PYBITES_SELENIUM.ipynb",
     "timestamp": 1584128599856
    }
   ]
  },
  "kernelspec": {
   "display_name": "Python 3",
   "language": "python",
   "name": "python3"
  },
  "language_info": {
   "codemirror_mode": {
    "name": "ipython",
    "version": 3
   },
   "file_extension": ".py",
   "mimetype": "text/x-python",
   "name": "python",
   "nbconvert_exporter": "python",
   "pygments_lexer": "ipython3",
   "version": "3.7.1"
  }
 },
 "nbformat": 4,
 "nbformat_minor": 1
}
