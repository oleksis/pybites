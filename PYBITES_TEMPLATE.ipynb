{
 "cells": [
  {
   "cell_type": "code",
   "execution_count": null,
   "metadata": {
    "scrolled": false
   },
   "outputs": [],
   "source": [
    "from pathlib import Path\n",
    "from IPython.display import HTML\n",
    "\n",
    "BITE = \"./bite.html\"\n",
    "files = Path().glob(\"test_*.py\")\n",
    "try:\n",
    "    PYBITES = next(files)\n",
    "except StopIteration:\n",
    "    raise(Exception(\"PYBITES_TEMPLATE \" +\n",
    "                    \"must be inside pybite_biteXYZ \" +\n",
    "                    \"folder with a test file\"))\n",
    "\n",
    "if PYBITES:\n",
    "    PYBITES = str(PYBITES).split(\"test_\")[1]\n",
    "\n",
    "def write_imports(file=\"__imports.py\", code=None,\n",
    "                  mode=\"w\", seek=0):\n",
    "    with open(file, mode) as pb:\n",
    "        line = \"\"\n",
    "        if \"r\" in mode:\n",
    "            line = pb.read()\n",
    "        line = f\"{code}\\n{line}\"\n",
    "        pb.seek(seek)\n",
    "        pb.write(line)\n",
    "\n",
    "HTML(filename=BITE)"
   ]
  },
  {
   "cell_type": "code",
   "execution_count": null,
   "metadata": {
    "scrolled": true
   },
   "outputs": [],
   "source": [
    "CODE = f\"%load {PYBITES}\"\n",
    "write_imports(code=CODE)\n",
    "CODE = f\"%%writefile {PYBITES}\"\n",
    "write_imports(file=PYBITES, code=CODE,\n",
    "              mode=\"r+\", seek=0)\n",
    "%load __imports.py"
   ]
  },
  {
   "cell_type": "code",
   "execution_count": null,
   "metadata": {},
   "outputs": [],
   "source": [
    "#!pytest"
   ]
  }
 ],
 "metadata": {
  "kernelspec": {
   "display_name": "Python 3",
   "language": "python",
   "name": "python3"
  },
  "language_info": {
   "codemirror_mode": {
    "name": "ipython",
    "version": 3
   },
   "file_extension": ".py",
   "mimetype": "text/x-python",
   "name": "python",
   "nbconvert_exporter": "python",
   "pygments_lexer": "ipython3",
   "version": "3.7.1"
  }
 },
 "nbformat": 4,
 "nbformat_minor": 2
}
